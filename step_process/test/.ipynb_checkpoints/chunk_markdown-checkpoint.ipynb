{
 "cells": [
  {
   "cell_type": "code",
   "execution_count": 1,
   "id": "bdb805ac-ed99-4bf3-a454-476e593ab9c8",
   "metadata": {},
   "outputs": [
    {
     "data": {
      "text/plain": [
       "True"
      ]
     },
     "execution_count": 1,
     "metadata": {},
     "output_type": "execute_result"
    }
   ],
   "source": [
    "from llama_parse import LlamaParse\n",
    "from llama_index.core import Document\n",
    "from llama_index.core import SimpleDirectoryReader, Settings, PromptTemplate\n",
    "from llama_index.embeddings.openai import OpenAIEmbedding\n",
    "from llama_index.core.node_parser import SemanticSplitterNodeParser\n",
    "from llama_index.core.node_parser import MarkdownNodeParser\n",
    "from llama_index.llms.openai import OpenAI\n",
    "import chromadb\n",
    "from chromadb.config import Settings\n",
    "import os\n",
    "from dotenv import load_dotenv\n",
    "import json\n",
    "import re\n",
    "\n",
    "load_dotenv()"
   ]
  },
  {
   "cell_type": "code",
   "execution_count": 2,
   "id": "4b6cf685-9e6d-49fb-9fd7-01f2f78a09d7",
   "metadata": {},
   "outputs": [],
   "source": [
    "# Đặt OpenAI API key\n",
    "os.environ[\"OPENAI_API_KEY\"] = os.getenv(\"OPENAI_API_KEY\")\n",
    "os.environ[\"LLAMA_CLOUD_API_KEY\"] = os.getenv(\"LLAMA_API_KEY\")\n",
    "embedding = OpenAIEmbedding(model=\"text-embedding-3-small\")\n",
    "Settings.llm = OpenAI(model=\"gpt-4o-mini\", temperature=0.1)\n",
    "\n",
    "# Định dạng marker\n",
    "PAGE_MARKER_TEMPLATE = \"[[__PAGE_{page}__]]\"\n",
    "PAGE_MARKER_RE = re.compile(r\"\\[\\[__PAGE_(\\d+)__\\]\\]\")\n",
    "HEADING_RE = re.compile(r'^\\s*(#{1,6})\\s+(.*\\S)\\s*$')"
   ]
  },
  {
   "cell_type": "code",
   "execution_count": 18,
   "id": "ea1f99f0-99db-4e88-acb5-4ac26d1894fd",
   "metadata": {},
   "outputs": [
    {
     "name": "stdout",
     "output_type": "stream",
     "text": [
      "Đang parse PDF sang Markdown...\n",
      "Started parsing the file under job_id 6619678f-0830-4724-8a85-2c90eba865d4\n"
     ]
    }
   ],
   "source": [
    "# 1. Parse PDF sang Markdown\n",
    "parser = LlamaParse(\n",
    "    result_type=\"markdown\",\n",
    "    auto_mode=True,\n",
    "    auto_mode_trigger_on_image_in_page=True,\n",
    "    auto_mode_trigger_on_table_in_page=True,\n",
    "    skip_diagonal_text=True,\n",
    "    preserve_layout_alignment_across_pages=True,\n",
    "    num_workers=4,\n",
    "    max_timeout=180,\n",
    "    )  # hoặc \"md\"\n",
    "pdf_path = r\"D:\\\\study\\\\LammaIndex\\\\documents\\\\NetSure_732_Brochure.pdf\"\n",
    "file_name = os.path.splitext(os.path.basename(pdf_path))[0]\n",
    "print(\"Đang parse PDF sang Markdown...\")\n",
    "parsed_docs = parser.load_data(pdf_path)  # Mỗi trang PDF -> 1 Document dạng markdown"
   ]
  },
  {
   "cell_type": "code",
   "execution_count": 19,
   "id": "d203a45d-568b-4762-bf03-7684b0135c4a",
   "metadata": {},
   "outputs": [],
   "source": [
    "product_name = \"Unknown Product\""
   ]
  },
  {
   "cell_type": "code",
   "execution_count": 20,
   "id": "42491fd0-ab58-4082-b289-b60430558dad",
   "metadata": {},
   "outputs": [
    {
     "name": "stdout",
     "output_type": "stream",
     "text": [
      "# NetSure™ 732 A41\n"
     ]
    }
   ],
   "source": [
    "parts = []\n",
    "for i, d in enumerate(parsed_docs, start=1):\n",
    "    if i==1:\n",
    "        content = d.text.split('\\n')\n",
    "        # Tìm dòng đầu tiên bắt đầu bằng '#'\n",
    "        first_hash_line = next((line for line in content if line.startswith(\"#\")), None)\n",
    "        print(first_hash_line)\n",
    "        if first_hash_line.startswith(\"# \"):\n",
    "            product_name = first_hash_line.strip(\"# \").strip()\n",
    "    parts.append(d.text)\n",
    "    parts.append(f\"\\n{PAGE_MARKER_TEMPLATE.format(page=i)}\\n\")\n",
    "\n",
    "merged_text = \"\".join(parts)"
   ]
  },
  {
   "cell_type": "code",
   "execution_count": 21,
   "id": "b66c10d7-7d35-44bb-9305-9c7f3109c226",
   "metadata": {},
   "outputs": [
    {
     "data": {
      "text/plain": [
       "'NetSure™ 732 A41'"
      ]
     },
     "execution_count": 21,
     "metadata": {},
     "output_type": "execute_result"
    }
   ],
   "source": [
    "product_name"
   ]
  },
  {
   "cell_type": "code",
   "execution_count": 22,
   "id": "a2945ee9-8399-42d8-92d3-3088f9f860f0",
   "metadata": {},
   "outputs": [],
   "source": [
    "big_document = Document(\n",
    "    text=merged_text,\n",
    "    metadata={\n",
    "        \"file_name\": file_name,\n",
    "        \"product_name\": product_name,\n",
    "    },\n",
    ")"
   ]
  },
  {
   "cell_type": "code",
   "execution_count": 23,
   "id": "a884ba83-2065-47f8-a0bd-3fbd784214a1",
   "metadata": {},
   "outputs": [],
   "source": [
    "md_parser = MarkdownNodeParser(include_metadata=True, include_prev_next_rel=True)\n",
    "nodes = md_parser.get_nodes_from_documents([big_document])"
   ]
  },
  {
   "cell_type": "code",
   "execution_count": 24,
   "id": "03a1c772-c8cd-4c3c-a574-f7817f267b17",
   "metadata": {},
   "outputs": [],
   "source": [
    "def find_all_pages_in_text(text: str):\n",
    "    \"\"\"Trả về list số trang xuất hiện trong text theo thứ tự. Loại bỏ trùng lặp liên tiếp.\"\"\"\n",
    "    pages = [int(m.group(1)) for m in PAGE_MARKER_RE.finditer(text)]\n",
    "    dedup = []\n",
    "    for p in pages:\n",
    "        if not dedup or dedup[-1] != p:\n",
    "            dedup.append(p)\n",
    "    return dedup\n",
    "def strip_page_markers(text: str) -> str:\n",
    "    \"\"\"Xoá marker trang khỏi text để không ảnh hưởng embedding.\"\"\"\n",
    "    cleaned = PAGE_MARKER_RE.sub(\"\", text)\n",
    "    return cleaned.strip(\"\\n\\r \")"
   ]
  },
  {
   "cell_type": "code",
   "execution_count": 25,
   "id": "8cc6dbbb-8980-476b-bcad-6524369a183d",
   "metadata": {},
   "outputs": [],
   "source": [
    "def extract_levels_from_text(text: str):\n",
    "    \"\"\"\n",
    "    Duyệt tất cả dòng trong node (đã sạch marker) để tìm heading.\n",
    "    Trả về (level1, level2) — nếu không thấy thì None.\n",
    "    Khi gặp # mới -> reset level2 (vì bối cảnh đổi).\n",
    "    Lấy heading cuối cùng của từng cấp xuất hiện trong node.\n",
    "    \"\"\"\n",
    "    level1 = None\n",
    "    level2 = None\n",
    "    for line in text.splitlines():\n",
    "        m = HEADING_RE.match(line)\n",
    "        if not m:\n",
    "            continue\n",
    "        hashes, title = m.groups()\n",
    "        depth = len(hashes)\n",
    "        title = title.strip()\n",
    "        if depth == 1:\n",
    "            level1 = title\n",
    "            level2 = None  # reset khi vào level1 mới\n",
    "        elif depth == 2:\n",
    "            level2 = title\n",
    "        # depth >= 3: bỏ qua (có thể lưu sau)\n",
    "    return level1, level2"
   ]
  },
  {
   "cell_type": "code",
   "execution_count": 27,
   "id": "292aeb34-a43d-4a6b-b992-a22afe482aa0",
   "metadata": {},
   "outputs": [],
   "source": [
    "def get_llm_summary(node_content: str) -> dict:\n",
    "    \"\"\"\n",
    "    Gọi LLM để lấy thông tin từ node_content:\n",
    "    - summary: 1 câu tóm tắt ngắn gọn.\n",
    "    - table_name: tên bảng (hoặc 'None' nếu không có).\n",
    "    - figure_name: tên hình (hoặc 'None' nếu không có).\n",
    "    Trả về dict.\n",
    "    \"\"\"\n",
    "    template = (\n",
    "        \"Analyze the following text and provide a JSON object with the fields:\\n\"\n",
    "        \"- summary: A one-sentence summary of the text.\\n\"\n",
    "        \"- table_name: If a table is present, provide the table name along with a brief summary of it; otherwise, return 'None'\\n\"\n",
    "        \"- figure_name: The name of the figure if present, otherwise 'None'.\\n\\n\"\n",
    "        \"Text:\\n---\\n{node_content}\\n---\\n\\n\"\n",
    "        \"Return ONLY the JSON object, nothing else.\"\n",
    "    )\n",
    "    prompt_template = PromptTemplate(template)\n",
    "    response = Settings.llm.predict(prompt_template, node_content=node_content).strip()\n",
    "    # Ví dụ response: {\"summary\": \"This text describes ...\", \"table_name\": \"Table 1\", \"figure_name\": \"None\"}\n",
    "    response = re.sub(r\"^```(json)?|```$\", \"\", response, flags=re.MULTILINE).strip()\n",
    "    result = json.loads(response)\n",
    "    print(result)\n",
    "    # Đảm bảo luôn có 3 key\n",
    "    for key in [\"summary\", \"table_name\", \"figure_name\"]:\n",
    "        result.setdefault(key, \"None\")\n",
    "    return result"
   ]
  },
  {
   "cell_type": "code",
   "execution_count": 28,
   "id": "dc176e03-25af-4cd8-b2b2-766f9ff53c3d",
   "metadata": {},
   "outputs": [
    {
     "name": "stdout",
     "output_type": "stream",
     "text": [
      "{'summary': 'The text describes the NetSure™ 732 A41, a 48V DC embedded power supply.', 'table_name': 'None', 'figure_name': 'None'}\n",
      "{'summary': 'The text describes the key features of an ultra-compact power system that offers high efficiency, adaptability, and multiple communication interfaces.', 'table_name': 'None', 'figure_name': 'None'}\n",
      "{'summary': 'NetSure™ 732 A41 is a versatile rack-mounted power system designed for telecom sites, featuring advanced technology for high energy efficiency and remote monitoring.', 'table_name': {'name': 'System Configuration', 'summary': 'The table outlines the specifications of the NetSure™ 732 A41 power system, detailing its AC and DC input capacities, control and power modules, input voltages, output voltages, and optional items.'}, 'figure_name': 'None'}\n",
      "{'summary': 'The text provides detailed specifications for the NetSure™ 732 A41 power converter, including electrical, mechanical, and controller parameters.', 'table_name': 'Configuration and Electrical Parameters', 'figure_name': 'None'}\n"
     ]
    }
   ],
   "source": [
    "metadata_dict = {}\n",
    "current_page = 0  # bắt đầu theo yêu cầu của bạn\n",
    "\n",
    "for idx, node in enumerate(nodes, start=1):\n",
    "    pages_found = find_all_pages_in_text(node.text)\n",
    "\n",
    "    if not pages_found:\n",
    "        node_page = current_page + 1\n",
    "        \n",
    "    elif len(pages_found) == 1:\n",
    "        # Node chứa đúng 1 marker\n",
    "        node_page = pages_found[0]\n",
    "        current_page = pages_found[0]\n",
    "\n",
    "    else:\n",
    "        # Node chứa Nhiều marker (bắc cầu nhiều trang)\n",
    "        node_page = pages_found[0]        # page của node = page đầu tiên\n",
    "        current_page = pages_found[-1]    # cập nhật current sang page cuối cùng\n",
    "\n",
    "    # Gắn page chính cho node\n",
    "    node.metadata[\"page\"] = node_page\n",
    "\n",
    "    # Làm sạch text\n",
    "    cleaned_text = strip_page_markers(node.text)\n",
    "    node.text = cleaned_text\n",
    "\n",
    "        # --- 3. Trích heading cấp # và ## từ text đã sạch ---\n",
    "    lvl1_local, lvl2_local = extract_levels_from_text(cleaned_text)\n",
    "\n",
    "    # Cập nhật ngữ cảnh heading\n",
    "    if lvl1_local is not None:\n",
    "        current_level1 = lvl1_local\n",
    "        current_level2 = None  # reset khi đổi level1\n",
    "    if lvl2_local is not None:\n",
    "        current_level2 = lvl2_local\n",
    "\n",
    "    # --- 4. Gán heading ngữ cảnh vào metadata ---\n",
    "    node.metadata[\"level1\"] = current_level1\n",
    "    node.metadata[\"level2\"] = current_level2\n",
    "\n",
    "    summary_info = get_llm_summary(node.text)\n",
    "    node.metadata[\"summary\"] = summary_info[\"summary\"]\n",
    "    node.metadata[\"table_name\"] = summary_info[\"table_name\"]\n",
    "    node.metadata[\"figure_name\"] = summary_info[\"figure_name\"]\n",
    "    # Lưu metadata\n",
    "    metadata_dict[idx] = dict(node.metadata)"
   ]
  },
  {
   "cell_type": "code",
   "execution_count": 29,
   "id": "7ab5ad86-0bca-4379-9c53-4295ee56bdad",
   "metadata": {},
   "outputs": [],
   "source": [
    "with open(\"NetSure_732_Brochure.json\", \"w\", encoding=\"utf-8\") as f:\n",
    "    json.dump(metadata_dict, f, ensure_ascii=False, indent=4)"
   ]
  },
  {
   "cell_type": "code",
   "execution_count": 15,
   "id": "03b21395-c889-47b3-82c0-0b5f3c0bd810",
   "metadata": {},
   "outputs": [
    {
     "name": "stdout",
     "output_type": "stream",
     "text": [
      "Đã ghi 104 chunk vào NetSure_732_User_Manual.md\n"
     ]
    }
   ],
   "source": [
    "output_file = \"NetSure_732_User_Manual.md\"\n",
    "with open(output_file, \"w\", encoding=\"utf-8\") as f:\n",
    "    for idx, node in enumerate(nodes, start=1):\n",
    "        f.write(f\"# Chunk {idx}\\n\")\n",
    "        f.write(node.text + \"\\n\\n\\n\\n\")\n",
    "\n",
    "print(f\"Đã ghi {len(nodes)} chunk vào {output_file}\")"
   ]
  },
  {
   "cell_type": "code",
   "execution_count": null,
   "id": "af17afca-4516-43ed-ac2f-c7ecf0cf20e0",
   "metadata": {},
   "outputs": [],
   "source": []
  }
 ],
 "metadata": {
  "kernelspec": {
   "display_name": "Python 3 (ipykernel)",
   "language": "python",
   "name": "python3"
  },
  "language_info": {
   "codemirror_mode": {
    "name": "ipython",
    "version": 3
   },
   "file_extension": ".py",
   "mimetype": "text/x-python",
   "name": "python",
   "nbconvert_exporter": "python",
   "pygments_lexer": "ipython3",
   "version": "3.13.2"
  }
 },
 "nbformat": 4,
 "nbformat_minor": 5
}
