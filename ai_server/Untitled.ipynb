{
 "cells": [
  {
   "cell_type": "code",
   "execution_count": 7,
   "id": "c9ea3e88-5593-4f72-92d6-d41b7b197784",
   "metadata": {},
   "outputs": [],
   "source": [
    "from llama_index.vector_stores.qdrant import QdrantVectorStore\n",
    "from qdrant_client import QdrantClient, AsyncQdrantClient\n",
    "from llama_index.core import Document, VectorStoreIndex, StorageContext, Settings\n",
    "from dotenv import load_dotenv\n",
    "from llama_index.embeddings.openai import OpenAIEmbedding\n",
    "from qdrant_client.http.models import PayloadSchemaType\n",
    "import os\n",
    "from llama_index.core.vector_stores.types import VectorStoreQueryMode\n",
    "load_dotenv()\n",
    "\n",
    "client = QdrantClient(\n",
    "    url=os.getenv(\"QDRANT_URL\"), \n",
    "    api_key=os.getenv(\"QDRANT_API_KEY\"),\n",
    ")\n",
    "aclient = AsyncQdrantClient(\n",
    "    url=os.getenv(\"QDRANT_URL\"), \n",
    "    api_key=os.getenv(\"QDRANT_API_KEY\"),\n",
    ") \n",
    "\n",
    "def config_db(collection_name):\n",
    "    Settings.embed_model = OpenAIEmbedding(model=\"text-embedding-3-small\")\n",
    "    vector_store = QdrantVectorStore(\n",
    "        collection_name=collection_name,\n",
    "        client=client,\n",
    "        aclient=aclient,\n",
    "        enable_hybrid=True,\n",
    "        fastembed_sparse_model=\"Qdrant/bm25\",\n",
    "        batch_size=20,\n",
    "    )\n",
    "    return vector_store"
   ]
  },
  {
   "cell_type": "code",
   "execution_count": 8,
   "id": "d5bcfdff-25b7-453d-88ee-9e4874b80fe7",
   "metadata": {},
   "outputs": [],
   "source": [
    "from llama_index.core.settings import Settings\n",
    "# from llama_index.postprocessor.colbert_rerank import ColbertRerank\n",
    "from llama_index.core.postprocessor import LLMRerank\n",
    "from llama_index.core import StorageContext, VectorStoreIndex\n",
    "from llama_index.core.vector_stores import (\n",
    "    MetadataFilter,\n",
    "    MetadataFilters,\n",
    "    FilterOperator,\n",
    "    FilterCondition\n",
    ")\n",
    "import asyncio\n",
    "from concurrent.futures import ThreadPoolExecutor\n",
    "from llama_index.core import QueryBundle\n",
    "from llama_index.core.prompts import PromptTemplate\n",
    "from llama_index.core.prompts.prompt_type import PromptType\n",
    "import json"
   ]
  },
  {
   "cell_type": "code",
   "execution_count": 20,
   "id": "319afdff-5149-4788-b257-4ec15829526b",
   "metadata": {},
   "outputs": [],
   "source": [
    "vector_store = config_db(\"hello_my_friend2\")\n",
    "index = VectorStoreIndex.from_vector_store(vector_store=vector_store)\n",
    "filename_ids = ['f_b20befa8-8035-11f0-baa1-38f3abb08dd1']\n",
    "filters_chunk = MetadataFilters(\n",
    "    filters=[\n",
    "        MetadataFilter(key=\"filename_id\", operator=FilterOperator.IN, value=filename_ids),\n",
    "        MetadataFilter(key=\"type\", operator=FilterOperator.EQ, value=\"chunk_document\"),\n",
    "    ],\n",
    "    condition=FilterCondition.AND,\n",
    ")\n",
    "query_str = \"Cấu hình thiết bị nguồn: Số lượng khe cắm module chỉnh lưu (Rectifier): ≥ 3\"\n",
    "# query_bundle = QueryBundle(query_str)\n",
    "retriever_chunk = index.as_retriever(\n",
    "    similarity_top_k=10,\n",
    "    sparse_top_k=15,\n",
    "    # verbose=True,\n",
    "    vector_store_query_mode=VectorStoreQueryMode.HYBRID,\n",
    "    filters=filters_chunk,\n",
    "    hybrid_top_k=10\n",
    ")\n",
    "retrieved_nodes = retriever_chunk.retrieve(query_bundle)\n",
    "reranker = LLMRerank(\n",
    "    # choice_select_prompt=custom_rerank_prompt,\n",
    "    choice_batch_size=10,\n",
    "    top_n=5,\n",
    "    llm=Settings.llm\n",
    ")\n",
    "results = reranker.postprocess_nodes(\n",
    "    retrieved_nodes, query_bundle\n",
    ")"
   ]
  },
  {
   "cell_type": "code",
   "execution_count": 21,
   "id": "37dd0625-4856-488a-bb52-1ba941643b92",
   "metadata": {},
   "outputs": [],
   "source": [
    "content = \"\"\n",
    "for i, result in enumerate(retrieved_nodes, start=1):\n",
    "    metadata = result.metadata\n",
    "    file_name = metadata[\"file_name\"] + \".pdf\"\n",
    "    page = metadata[\"page\"]\n",
    "    table = metadata[\"table_name\"]\n",
    "    figure_name = metadata.get(\"figure_name\")\n",
    "    text = result.text.strip()\n",
    "    content += f\"\"\"\n",
    "    ========== CHUNK {metadata['chunk_id']} ========\n",
    "        page: {page}\n",
    "        file: {file_name}\n",
    "        figure: {figure_name}\n",
    "        table: {table}\n",
    "\n",
    "        Nội dung của chunk: {text}\n",
    "        ========== CHUNK {metadata['chunk_id']} END ==========\\n\\n\"\"\""
   ]
  },
  {
   "cell_type": "code",
   "execution_count": 22,
   "id": "ae6de785-f11f-478d-9366-1114c3a79797",
   "metadata": {},
   "outputs": [
    {
     "data": {
      "text/plain": [
       "\"\\n    ========== CHUNK R48-1000e3_User_Manual_47 ========\\n        page: 20\\n        file: R48-1000e3_User_Manual.pdf\\n        figure: Figure 6\\n        table: None\\n\\n        Nội dung của chunk: ## Installing Rectifiers\\n\\nRectifiers can be inserted or removed with power applied (hot swappable).\\n\\nNOTE! Each rectifier module locks into a module mounting shelf by means of a latch located on the bottom of the rectifier. The latch and rectifier handle are interactive. Pushing the handle up into the rectifier's front panel causes the latch to extend to the locking position; pulling the handle down out from the rectifier's front panel causes the latch to retract. See Figure 6.\\n\\nCAUTION! This rectifier contains double pole fusing. Parts of the equipment that remain energized might represent a hazard during servicing after operation of the fuse. If the rectifiers are connected to a 3-phase system, the neutral line should also have a fuse.\\n\\nWARNING! To prevent damage to the latching mechanism, ensure the handle is in the open position when installing or removing a rectifier module. NEVER hold the handle in the closed position when installing a rectifier module into a shelf.\\n\\nVertiv | NetSure Rectifier Module User Manual (UM1R481000e3 / 11MB4705YO) | Rev. B 20\\n\\n\\n\\n\\n\\n\\nVERTIV\\n        ========== CHUNK R48-1000e3_User_Manual_47 END ==========\\n\\n\\n    ========== CHUNK R48-1000e3_User_Manual_31 ========\\n        page: 15\\n        file: R48-1000e3_User_Manual.pdf\\n        figure: None\\n        table: None\\n\\n        Nội dung của chunk: # Output Protection:\\n\\n1. Overload / Reverse Current: The rectifier has a 63 A fuse in the negative output DC bus. This fuse is not customer replaceable. The rectifier can be plugged into or pulled out of a shelf while operating, without damage or opening the fuse.\\n2. Current Limiting: The rectifier has a current limit function. The current limit point can be set between the range of 4 A to 21 A, adjustable via the controller. The current limit accuracy is ±1 A when the output voltage ranges from 42 VDC to 58 VDC. Below 42 VDC the current will fold back to a lower value.\\n3. Advanced Current Limit Function: The rectifier has an advanced Current Limit Function. When a short circuit occurs at the rectifier output terminals, the rectifier will keep its output current at a value below the maximum current limit set point. This function effectively protects the rectifier and the equipment connected to the rectifier. When the short circuit fault is cleared, the rectifier will automatically restore back to normal operation.\\n4. High Voltage Shutdown:\\n\\n1. Adjustable Control: If rectifier output voltage exceeds an adjustable preset value and the rectifier is delivering more than 10 % of its rated current, the rectifier shuts down. (Adjustable from 56 VDC to 59 VDC via the controller. The restart hysteresis is 0.5 V ±0.2 V.)\\n\\nThe rectifier then restarts and a HVSD restart timer starts (time value configurable via the controller, factory default is 5 minutes). If output voltage again exceeds the high voltage shutdown value before the HVSD restart timer expires, the rectifier shuts down and locks out. Manual restart is then required (by turning power to the rectifier off or by removing the rectifier, waiting until the LEDs on the rectifier extinguish, then turning power to the rectifier on or re-inserting the rectifier). If the rectifier does not experience a high voltage condition before the HVSD restart timer expires, the restart circuit is reset.\\n\\n15\\n\\n\\n\\n\\nVertiv | NetSure Rectifier Module User Manual (UM1R481000e3 / 11MB4705YO) | Rev. B\\n        ========== CHUNK R48-1000e3_User_Manual_31 END ==========\\n\\n\\n    ========== CHUNK R48-1000e3_User_Manual_49 ========\\n        page: 21\\n        file: R48-1000e3_User_Manual.pdf\\n        figure: Figure 6: Installing a Rectifier\\n        table: None\\n\\n        Nội dung của chunk: ### Figure 6: Installing a Rectifier\\n\\n[Image of a rectifier module shown from two angles. The top image shows the full module. The bottom image is a close-up of the front panel with labels.]\\n\\nCaptive Screw ───┐   ┌─── Handle\\n                 │   │\\n                 ▼   ▼\\n[Close-up image of the rectifier's front panel]\\n                     │\\n                     ▼\\n                   Latch\\n\\nVertiv | NetSure Rectifier Module User Manual (UM1R481000e3 / 11MB4705YO) | Rev. B 21\\n        ========== CHUNK R48-1000e3_User_Manual_49 END ==========\\n\\n\\n    ========== CHUNK R48-1000e3_User_Manual_59 ========\\n        page: 24\\n        file: R48-1000e3_User_Manual.pdf\\n        figure: Figure 6\\n        table: None\\n\\n        Nội dung của chunk: # Rectifier Module Replacement\\n\\nRectifiers can be inserted or removed with power applied (hot swappable).\\n\\nNOTE! Each rectifier module locks into a module mounting shelf by means of a latch located on the bottom of the rectifier. The latch and rectifier handle are interactive. Pushing the handle up into the rectifier’s front panel causes the latch to extend to the locking position; pulling the handle down out from the rectifier’s front panel causes the latch to retract. See Figure 6.\\n\\nDANGER! Take care when removing a rectifier that was in operation, as rectifier surfaces could be very hot.\\n\\nWARNING! To prevent damage to the latching mechanism, ensure the handle is in the open position when installing or removing a rectifier. NEVER hold the handle in the closed position when installing a rectifier into a shelf.\\n        ========== CHUNK R48-1000e3_User_Manual_59 END ==========\\n\\n\\n    ========== CHUNK R48-1000e3_User_Manual_26 ========\\n        page: 13\\n        file: R48-1000e3_User_Manual.pdf\\n        figure: None\\n        table: None\\n\\n        Nội dung của chunk: ## Environmental Ratings:\\n\\n- Operating Ambient Temperature Range:\\n  a) +45 °C (+113 °F) to +75 °C (+176 °F) with derating output.\\n  b) -40 °C (-40 °F) to +45 °C (+113 °F) with full power performance.\\n\\n- Temperature Coefficient: 0.02 % per degrees Celsius.\\n\\n- Storage Ambient Temperature Range: -25 °C (-13 °F) to +55 °C (+131 °F).\\n\\n- Relative Humidity: This rectifier is capable of operating in an ambient relative humidity range of 0 % to 90 %, non-condensing.\\n\\n- Altitude: 2000 m (6560 ft) at full power (power limited for heights above 2000 m).\\n\\n- Surge Protection: Compliance with EN61000-4-5 (4kV Line to Line, 4kV Line to Earth). Capable of withstanding surges per ANSI/IEEE C 62.41 1999 Category B3 across the input terminals.\\n\\n> NOTE! This level of protection is a widely used standard for telecommunications power equipment. As with all such equipment, it is the end user's responsibility to provide an adequately sized Surge Suppression Device at the commercial power service entrance of the building that reduces all incoming surges to levels below the classes/categories stated for the equipment.\\n\\n- Ventilation Requirements: The rectifiers are fan cooled and utilize front to back forced ventilation. A rectifier must be mounted so ventilating openings are not blocked and temperature of the air entering the rectifier does not exceed the Operating Ambient Temperature Range stated above.\\n\\n- Single Rectifier Audible Noise: At 25 °C ≤50 dB(A) with fan in high speed. Measurement made at 0.6m distance in front of rectifier and at same horizontal line of the middle of rectifier.\\n\\n- Overvoltage Category: II\\n\\n- Power Distribution System: TN/TT/IT\\n\\nVertiv | NetSure Rectifier Module User Manual (UM1R481000e3 / 11MB4705YO) | Rev. B 13\\n\\n\\n\\n\\n\\nNOTE! The rectifier is recommended to be used in an environment with Pollution of Degree 2 or less. Pollution Degree 2 applies where there is only non-conductive pollution that might temporarily become conductive due to occasional condensation (such as the office environment).\\n\\n- EMI/RFI Suppression:\\n  a) Rectifiers operating in an approved rectifier mounting shelf conform to the requirements of FCC rules Part 15, Class B for radiated and conducted emissions limits.\\n  b) Rectifiers operating in an approved rectifier mounting shelf conform to the requirements of European Norm, EN55022, Class B for radiated and conducted emissions limits.\\n        ========== CHUNK R48-1000e3_User_Manual_26 END ==========\\n\\n\""
      ]
     },
     "execution_count": 22,
     "metadata": {},
     "output_type": "execute_result"
    }
   ],
   "source": [
    "content"
   ]
  },
  {
   "cell_type": "code",
   "execution_count": null,
   "id": "584b2ae9-4106-44d6-8402-463f60c49ebd",
   "metadata": {},
   "outputs": [],
   "source": []
  }
 ],
 "metadata": {
  "kernelspec": {
   "display_name": "Python 3 (ipykernel)",
   "language": "python",
   "name": "python3"
  },
  "language_info": {
   "codemirror_mode": {
    "name": "ipython",
    "version": 3
   },
   "file_extension": ".py",
   "mimetype": "text/x-python",
   "name": "python",
   "nbconvert_exporter": "python",
   "pygments_lexer": "ipython3",
   "version": "3.13.2"
  }
 },
 "nbformat": 4,
 "nbformat_minor": 5
}
