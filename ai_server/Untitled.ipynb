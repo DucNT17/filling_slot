{
 "cells": [
  {
   "cell_type": "code",
   "execution_count": 1,
   "id": "c9ea3e88-5593-4f72-92d6-d41b7b197784",
   "metadata": {},
   "outputs": [
    {
     "name": "stderr",
     "output_type": "stream",
     "text": [
      "D:\\study\\LammaIndex\\venv\\Lib\\site-packages\\tqdm\\auto.py:21: TqdmWarning: IProgress not found. Please update jupyter and ipywidgets. See https://ipywidgets.readthedocs.io/en/stable/user_install.html\n",
      "  from .autonotebook import tqdm as notebook_tqdm\n"
     ]
    }
   ],
   "source": [
    "from llama_index.vector_stores.qdrant import QdrantVectorStore\n",
    "from qdrant_client import QdrantClient, AsyncQdrantClient\n",
    "from llama_index.core import Document, VectorStoreIndex, StorageContext, Settings\n",
    "from dotenv import load_dotenv\n",
    "from llama_index.embeddings.openai import OpenAIEmbedding\n",
    "from qdrant_client.http.models import PayloadSchemaType\n",
    "import os\n",
    "load_dotenv()\n",
    "\n",
    "client = QdrantClient(\n",
    "    url=os.getenv(\"QDRANT_URL\"), \n",
    "    api_key=os.getenv(\"QDRANT_API_KEY\"),\n",
    ")\n",
    "aclient = AsyncQdrantClient(\n",
    "    url=os.getenv(\"QDRANT_URL\"), \n",
    "    api_key=os.getenv(\"QDRANT_API_KEY\"),\n",
    ") \n",
    "\n",
    "def config_db(collection_name):\n",
    "    Settings.embed_model = OpenAIEmbedding(model=\"text-embedding-3-small\")\n",
    "    vector_store = QdrantVectorStore(\n",
    "        collection_name=collection_name,\n",
    "        client=client,\n",
    "        aclient=aclient,\n",
    "        enable_hybrid=True,\n",
    "        fastembed_sparse_model=\"Qdrant/bm25\",\n",
    "        batch_size=20,\n",
    "    )\n",
    "    return vector_store"
   ]
  },
  {
   "cell_type": "code",
   "execution_count": 57,
   "id": "d5bcfdff-25b7-453d-88ee-9e4874b80fe7",
   "metadata": {},
   "outputs": [],
   "source": [
    "from llama_index.core.settings import Settings\n",
    "# from llama_index.postprocessor.colbert_rerank import ColbertRerank\n",
    "from llama_index.core.postprocessor import LLMRerank\n",
    "from llama_index.core import StorageContext, VectorStoreIndex\n",
    "from llama_index.core.vector_stores import (\n",
    "    MetadataFilter,\n",
    "    MetadataFilters,\n",
    "    FilterOperator,\n",
    "    FilterCondition\n",
    ")\n",
    "import asyncio\n",
    "from concurrent.futures import ThreadPoolExecutor\n",
    "from llama_index.core import QueryBundle\n",
    "from llama_index.core.prompts import PromptTemplate\n",
    "from llama_index.core.prompts.prompt_type import PromptType\n",
    "import json"
   ]
  },
  {
   "cell_type": "code",
   "execution_count": 58,
   "id": "319afdff-5149-4788-b257-4ec15829526b",
   "metadata": {},
   "outputs": [],
   "source": [
    "vector_store = config_db(\"hello_my_friend2\")\n",
    "index = VectorStoreIndex.from_vector_store(vector_store=vector_store)\n",
    "filename_ids = ['f_b20befa8-8035-11f0-baa1-38f3abb08dd1']\n",
    "filters_chunk = MetadataFilters(\n",
    "    filters=[\n",
    "        MetadataFilter(key=\"filename_id\", operator=FilterOperator.IN, value=filename_ids),\n",
    "        MetadataFilter(key=\"type\", operator=FilterOperator.EQ, value=\"chunk_document\"),\n",
    "    ],\n",
    "    condition=FilterCondition.AND,\n",
    ")\n",
    "query_str = \"Yêu cầu với module chỉnh lưu (Rectifier): Tổng  độ  méo  hài  THD của Rectifier: ≤5% với tải từ 50÷100%\"\n",
    "# query_bundle = QueryBundle(query_str)\n",
    "retriever_chunk = index.as_retriever(\n",
    "    similarity_top_k=10,\n",
    "    sparse_top_k=15,\n",
    "    # verbose=True,\n",
    "    enable_hybrid=True,\n",
    "    filters=filters_chunk\n",
    ")\n",
    "retrieved_nodes = retriever_chunk.retrieve(query_str)\n",
    "# reranker = LLMRerank(\n",
    "#     # choice_select_prompt=custom_rerank_prompt,\n",
    "#     choice_batch_size=10,\n",
    "#     top_n=5,\n",
    "#     llm=Settings.llm\n",
    "# )\n",
    "# results = reranker.postprocess_nodes(\n",
    "#     retrieved_nodes, query_bundle\n",
    "# )"
   ]
  },
  {
   "cell_type": "code",
   "execution_count": 59,
   "id": "37dd0625-4856-488a-bb52-1ba941643b92",
   "metadata": {},
   "outputs": [],
   "source": [
    "content = \"\"\n",
    "for i, result in enumerate(retrieved_nodes, start=1):\n",
    "    metadata = result.metadata\n",
    "    file_name = metadata[\"file_name\"] + \".pdf\"\n",
    "    page = metadata[\"page\"]\n",
    "    table = metadata[\"table_name\"]\n",
    "    figure_name = metadata.get(\"figure_name\")\n",
    "    text = result.text.strip()\n",
    "    content += f\"\"\"\n",
    "    ========== CHUNK {metadata['chunk_id']} ========\n",
    "        page: {page}\n",
    "        file: {file_name}\n",
    "        figure: {figure_name}\n",
    "        table: {table}\n",
    "\n",
    "        Nội dung của chunk: {text}\n",
    "        ========== CHUNK {metadata['chunk_id']} END ==========\\n\\n\"\"\""
   ]
  },
  {
   "cell_type": "code",
   "execution_count": 60,
   "id": "ae6de785-f11f-478d-9366-1114c3a79797",
   "metadata": {},
   "outputs": [
    {
     "data": {
      "text/plain": [
       "\"\\n    ========== CHUNK R48-1000e3_User_Manual_26 ========\\n        page: 13\\n        file: R48-1000e3_User_Manual.pdf\\n        figure: None\\n        table: None\\n\\n        Nội dung của chunk: ## Environmental Ratings:\\n\\n- Operating Ambient Temperature Range:\\n  a) +45 °C (+113 °F) to +75 °C (+176 °F) with derating output.\\n  b) -40 °C (-40 °F) to +45 °C (+113 °F) with full power performance.\\n\\n- Temperature Coefficient: 0.02 % per degrees Celsius.\\n\\n- Storage Ambient Temperature Range: -25 °C (-13 °F) to +55 °C (+131 °F).\\n\\n- Relative Humidity: This rectifier is capable of operating in an ambient relative humidity range of 0 % to 90 %, non-condensing.\\n\\n- Altitude: 2000 m (6560 ft) at full power (power limited for heights above 2000 m).\\n\\n- Surge Protection: Compliance with EN61000-4-5 (4kV Line to Line, 4kV Line to Earth). Capable of withstanding surges per ANSI/IEEE C 62.41 1999 Category B3 across the input terminals.\\n\\n> NOTE! This level of protection is a widely used standard for telecommunications power equipment. As with all such equipment, it is the end user's responsibility to provide an adequately sized Surge Suppression Device at the commercial power service entrance of the building that reduces all incoming surges to levels below the classes/categories stated for the equipment.\\n\\n- Ventilation Requirements: The rectifiers are fan cooled and utilize front to back forced ventilation. A rectifier must be mounted so ventilating openings are not blocked and temperature of the air entering the rectifier does not exceed the Operating Ambient Temperature Range stated above.\\n\\n- Single Rectifier Audible Noise: At 25 °C ≤50 dB(A) with fan in high speed. Measurement made at 0.6m distance in front of rectifier and at same horizontal line of the middle of rectifier.\\n\\n- Overvoltage Category: II\\n\\n- Power Distribution System: TN/TT/IT\\n\\nVertiv | NetSure Rectifier Module User Manual (UM1R481000e3 / 11MB4705YO) | Rev. B 13\\n\\n\\n\\n\\n\\nNOTE! The rectifier is recommended to be used in an environment with Pollution of Degree 2 or less. Pollution Degree 2 applies where there is only non-conductive pollution that might temporarily become conductive due to occasional condensation (such as the office environment).\\n\\n- EMI/RFI Suppression:\\n  a) Rectifiers operating in an approved rectifier mounting shelf conform to the requirements of FCC rules Part 15, Class B for radiated and conducted emissions limits.\\n  b) Rectifiers operating in an approved rectifier mounting shelf conform to the requirements of European Norm, EN55022, Class B for radiated and conducted emissions limits.\\n        ========== CHUNK R48-1000e3_User_Manual_26 END ==========\\n\\n\\n    ========== CHUNK R48-1000e3_User_Manual_20 ========\\n        page: 7\\n        file: R48-1000e3_User_Manual.pdf\\n        figure: Power Derating Based on Temperature\\n        table: Power Derating Based on Input Voltage\\n\\n        Nội dung của chunk: 🔍 NOTE! 1000 W @ +45 °C (+113 °F) and 176 VAC < Vin < 264 VAC and 50 VDC < Vout < 56 VDC.\\n\\n- Regulation:\\n  a) Static: Steady state regulation is ±0.6 % as controlled within the rectifier for any and all combinations of load from no load to full load, input voltage, and input frequency at a constant ambient temperature. The associated system controller may provide increased regulation.\\n  \\n  b) Dynamic: Response time ≤200 microseconds and overshot ≤5 % for load changes at 50 % - 25 % - 50 % and 50 % - 75 % - 50% at rated output voltage and current.\\n  \\n  For any step load change within the range of 10 % to 90 % of full load within 50 milliseconds, the maximum voltage transient will not exceed 5 % of the initial steady state voltage within 50±10 microseconds. Recovery to within 1 % of the initial steady state voltage does not exceed 1 millisecond.\\n\\n- Filtering:\\n  a) Voice Band Noise:\\n     1. Output noise is < 38 dBrnC typical at normal input (208 VAC / 240 VAC) and 30 % to 70 % of rated load for more than one rectifier.\\n     2. Psophometric noise is ≤ 2 mV typical at 30 % to 70 % of rated load for more than one rectifier.\\n        ========== CHUNK R48-1000e3_User_Manual_20 END ==========\\n\\n\\n    ========== CHUNK R48-1000e3_User_Manual_31 ========\\n        page: 15\\n        file: R48-1000e3_User_Manual.pdf\\n        figure: None\\n        table: None\\n\\n        Nội dung của chunk: # Output Protection:\\n\\n1. Overload / Reverse Current: The rectifier has a 63 A fuse in the negative output DC bus. This fuse is not customer replaceable. The rectifier can be plugged into or pulled out of a shelf while operating, without damage or opening the fuse.\\n2. Current Limiting: The rectifier has a current limit function. The current limit point can be set between the range of 4 A to 21 A, adjustable via the controller. The current limit accuracy is ±1 A when the output voltage ranges from 42 VDC to 58 VDC. Below 42 VDC the current will fold back to a lower value.\\n3. Advanced Current Limit Function: The rectifier has an advanced Current Limit Function. When a short circuit occurs at the rectifier output terminals, the rectifier will keep its output current at a value below the maximum current limit set point. This function effectively protects the rectifier and the equipment connected to the rectifier. When the short circuit fault is cleared, the rectifier will automatically restore back to normal operation.\\n4. High Voltage Shutdown:\\n\\n1. Adjustable Control: If rectifier output voltage exceeds an adjustable preset value and the rectifier is delivering more than 10 % of its rated current, the rectifier shuts down. (Adjustable from 56 VDC to 59 VDC via the controller. The restart hysteresis is 0.5 V ±0.2 V.)\\n\\nThe rectifier then restarts and a HVSD restart timer starts (time value configurable via the controller, factory default is 5 minutes). If output voltage again exceeds the high voltage shutdown value before the HVSD restart timer expires, the rectifier shuts down and locks out. Manual restart is then required (by turning power to the rectifier off or by removing the rectifier, waiting until the LEDs on the rectifier extinguish, then turning power to the rectifier on or re-inserting the rectifier). If the rectifier does not experience a high voltage condition before the HVSD restart timer expires, the restart circuit is reset.\\n\\n15\\n\\n\\n\\n\\nVertiv | NetSure Rectifier Module User Manual (UM1R481000e3 / 11MB4705YO) | Rev. B\\n        ========== CHUNK R48-1000e3_User_Manual_31 END ==========\\n\\n\\n    ========== CHUNK R48-1000e3_User_Manual_20 ========\\n        page: 7\\n        file: R48-1000e3_User_Manual.pdf\\n        figure: Power Derating Based on Temperature\\n        table: Power Derating Based on Input Voltage\\n\\n        Nội dung của chunk: ### Figure 1: Output Voltage vs. Output Current\\n\\n| \\\\`\\\\`\\\\`mermaid graph LR style A fill:#fff,stroke:#fff style B fill:#fff,stroke:#fff A\\\\[<br/><br/><br/><br/><br/><br/><br/>Output Voltage (V)] B\\\\[Output Current (A)] A -->\\\\|60\\\\| C((•)) A -->\\\\|50\\\\| D((•)) A -->\\\\|40\\\\| E((•)) A -->\\\\|30\\\\| F((•)) A -->\\\\|20\\\\| G((•)) A -->\\\\|10\\\\| H((•)) A -->\\\\|0\\\\| I((•)) I --> \\\\|0\\\\| J((•)) I --> \\\\|5\\\\| K((•)) I --> \\\\|10\\\\| L((•)) I --> \\\\|15\\\\| M((•)) I --> \\\\|20\\\\| N((•)) I --> \\\\|25\\\\| O((•)) C --> P D --> P P --> Q Q --> R R --> S S --> I B --> O \\\\`\\\\`\\\\` |\\n| -------------------------------------------------------------------------------------------------------------------------------------------------------------------------------------------------------------------------------------------------------------------------------------------------------------------------------------------------------------------------------------------------------------------------------------------------------------------------------------------- |\\n| Output Voltage vs. Output Current at Max. Power                                                                                                                                                                                                                                                                                                                                                                                                                                              |\\n\\n\\nVertiv | NetSure Rectifier Module User Manual (UM1R481000e3 / 11MB4705YO) | Rev. B 7\\n\\n\\n\\n\\n\\n• Power Derating Based on Input Voltage: The rectifier power varies with changes in input\\nvoltage and output voltage. It uses an advanced power limitation method. The lower input\\nthreshold is 85 VAC. The rectifier can provide its maximum rated power (1000 W) as long as the\\ninput voltage is within the range of 176 VAC to 300 VAC. Below 176 VAC, and down to 85 VAC,\\nthe rectifier will continue to operate normally but will be in a power derating mode. The\\nrelationship between the output power and input voltage is illustrated in Figure 2.\\n\\nFigure 2: Power Derating Based on Input Voltage\\n\\n| Output Power vs. Input Voltage andVo > 48 VDC at Temp ≤ 45 °C | Output Power vs. Input Voltage andVo > 48 VDC at Temp ≤ 45 °C      | Output Power vs. Input Voltage andVo > 48 VDC at Temp ≤ 45 °C | Output Power vs. Input Voltage andVo > 48 VDC at Temp ≤ 45 °C | Output Power vs. Input Voltage andVo > 48 VDC at Temp ≤ 45 °C | Output Power vs. Input Voltage andVo > 48 VDC at Temp ≤ 45 °C | Output Power vs. Input Voltage andVo > 48 VDC at Temp ≤ 45 °C | Output Power vs. Input Voltage andVo > 48 VDC at Temp ≤ 45 °C |\\n| ------------------------------------------------------------- | ------------------------------------------------------------------ | ------------------------------------------------------------- | ------------------------------------------------------------- | ------------------------------------------------------------- | ------------------------------------------------------------- | ------------------------------------------------------------- | ------------------------------------------------------------- |\\n| % of output power                                             | 120.0%<br/>100.0%<br/>80.0%<br/>60.0%<br/>40.0%<br/>20.0%<br/>0.0% |                                                               |                                                               |                                                               |                                                               |                                                               |                                                               |\\n|                                                               | 0                                                                  | 50                                                            | 100                                                           | 150                                                           | 200                                                           | 250                                                           | 300                                                           |\\n| Input Voltage (VAC)                                           |                                                                    |                                                               |                                                               |                                                               |                                                               |                                                               |                                                               |\\n        ========== CHUNK R48-1000e3_User_Manual_20 END ==========\\n\\n\\n    ========== CHUNK R48-1000e3_User_Manual_28 ========\\n        page: 14\\n        file: R48-1000e3_User_Manual.pdf\\n        figure: None\\n        table: None\\n\\n        Nội dung của chunk: ## Standard Features\\n- Type of Power Conversion Circuit: High frequency.\\n- Constant Voltage Mode: For any initial output voltage setting from 42 VDC to 58 VDC, output voltage remains constant regardless of load. This is the normal operating condition, in which loads are being supplied and batteries are float charged. Rectifiers operate in the Constant Voltage Mode unless load increases to the point where the product of load current and output voltage is approximately 1000 W.\\n- Constant Power Mode: As load increases above approximately 1000 W (non-adjustable), output current continues to increase, but output voltage decreases as required to maintain constant output power. Rectifiers operate in the Constant Power Mode unless load continues to increase to the point where the current limit setting is reached.\\n\\nVertiv | NetSure Rectifier Module User Manual (UM1R481000e3 / 11MB4705YO) | Rev. B 14\\n\\n\\n\\nVertiv | NetSure Rectifier Module User Manual (UM1R481000e3 / 11MB4705YO) | Rev. B\\n        ========== CHUNK R48-1000e3_User_Manual_28 END ==========\\n\\n\\n    ========== CHUNK R48-1000e3_User_Manual_36 ========\\n        page: 16\\n        file: R48-1000e3_User_Manual.pdf\\n        figure: None\\n        table: None\\n\\n        Nội dung của chunk: # Cooling\\n\\nEach rectifier module contains a fan for front-to-back force air-cooling.\\n\\n- # a) Fan Fault Protection\\n\\nThe rectifier module shuts down and its alarm indicator (red) flashes if the fan fails. Fan failure is detected and reported to controller. The fan is not field replaceable.\\n- # b) Fan Control\\n\\nFan speed is continuously variable. When input voltage is within normal range, the built-in processor adjusts fan speed according to the rectifier module’s internal temperature and output power. For example, a higher temperature or output power increases the fan speed. This feature can be disabled via the controller, allowing the fan to run at full speed regardless of temperature.\\n        ========== CHUNK R48-1000e3_User_Manual_36 END ==========\\n\\n\\n    ========== CHUNK R48-1000e3_User_Manual_17 ========\\n        page: 7\\n        file: R48-1000e3_User_Manual.pdf\\n        figure: None\\n        table: None\\n\\n        Nội dung của chunk: ## Overview\\n\\nThe rectifier provides load power, battery float current, and battery recharge current during normal operating conditions. The rectifier is a constant power design. The rectifier is rated at its maximum output power. This means that, within the normal operating ambient temperature range and input voltage range, the maximum available output power is a constant 1000 W. Within these ranges, the rectifier operates in one of three modes, depending upon load demands. Transition between modes is completely automatic. If ambient temperature rises above or input voltage falls below acceptable values, the rectifier continues to operate but at derated output power levels.\\n\\n- Constant Voltage Mode: For any initial output voltage setting from 42 VDC to 58 VDC, output voltage remains constant regardless of load. This is the normal operating condition, in which loads are being supplied and batteries are float charged. Rectifiers operate in the Constant Voltage Mode unless load increases to the point where the product of load current and output voltage is approximately 1000 W.\\n\\n- Constant Power Mode: As load increases above approximately 1000 W (non-adjustable), output current continues to increase, but output voltage decreases as required to maintain constant output power. Rectifiers operate in the Constant Power Mode unless load continues to increase to the point where the current limit setting is reached.\\n\\n- Constant Current Mode: If load increases to the current limit setting, output voltage decreases linearly to maintain output current at the current limit setting.\\n        ========== CHUNK R48-1000e3_User_Manual_17 END ==========\\n\\n\\n    ========== CHUNK R48-1000e3_User_Manual_47 ========\\n        page: 20\\n        file: R48-1000e3_User_Manual.pdf\\n        figure: Figure 6\\n        table: None\\n\\n        Nội dung của chunk: ## Installing Rectifiers\\n\\nRectifiers can be inserted or removed with power applied (hot swappable).\\n\\nNOTE! Each rectifier module locks into a module mounting shelf by means of a latch located on the bottom of the rectifier. The latch and rectifier handle are interactive. Pushing the handle up into the rectifier's front panel causes the latch to extend to the locking position; pulling the handle down out from the rectifier's front panel causes the latch to retract. See Figure 6.\\n\\nCAUTION! This rectifier contains double pole fusing. Parts of the equipment that remain energized might represent a hazard during servicing after operation of the fuse. If the rectifiers are connected to a 3-phase system, the neutral line should also have a fuse.\\n\\nWARNING! To prevent damage to the latching mechanism, ensure the handle is in the open position when installing or removing a rectifier module. NEVER hold the handle in the closed position when installing a rectifier module into a shelf.\\n\\nVertiv | NetSure Rectifier Module User Manual (UM1R481000e3 / 11MB4705YO) | Rev. B 20\\n\\n\\n\\n\\n\\n\\nVERTIV\\n        ========== CHUNK R48-1000e3_User_Manual_47 END ==========\\n\\n\\n    ========== CHUNK R48-1000e3_User_Manual_38 ========\\n        page: 16\\n        file: R48-1000e3_User_Manual.pdf\\n        figure: None\\n        table: Table 5 Exchange of Information between Rectifier and Controller\\n\\n        Nội dung của chunk: # Communication Failure\\n\\nThe rectifier’s protection indicator (yellow) will flash should it experience a communication failure. The failure information will be reported to the controller and the controller will process the failure accordingly. During a communication failure, in order to protect the battery, the rectifier output voltage will automatically be adjusted as follows:\\n\\n- The rectifier default factory output voltage is 53.5 V.\\n- Once power is applied to the rectifier and the rectifier is recognized by the controller, the output voltage is updated to the setting programmed into the controller.\\n- If communications with an SCU+ controller is lost, rectifier output voltage goes to a default value programmed into the controller (this is a separate programmable parameter from the output voltage setting).\\n- If communications with an ACU+ or NCU controller is lost, rectifier output voltage goes to the last communicated float output voltage setting in the controller (the last communicated float output voltage setting is stored in the rectifier).\\n- The rectifier will revert to normal operation once normal communication to the controller is restored.\\n\\n16\\n\\n\\n\\n\\n\\n\\n• Rectifier Output Current Imbalance: When load sharing severe imbalance (output fuse open) and the output current drops to zero in average current >10 % system, then the red fault indicator will illuminate.\\n\\n• Monitoring Function: The rectifier has a built-in advanced DSP that monitors and controls the operation of the rectifier. The DSP also communicates with the controller in real time through the CAN bus. Table 5 lists the different commands and information exchanged between the rectifier and the controller.\\n\\nTable 5: Exchange of Information between Rectifier and Controller\\n\\n| Commands / Signals that can be received by the Rectifier Module from the Controller.                                                        | Information Gathered by the Controller from the Rectifier Module.                                                                                                                                                                                                                                                                                                                                                                                                                                                    |\\n| ------------------------------------------------------------------------------------------------------------------------------------------- | -------------------------------------------------------------------------------------------------------------------------------------------------------------------------------------------------------------------------------------------------------------------------------------------------------------------------------------------------------------------------------------------------------------------------------------------------------------------------------------------------------------------- |\\n| • Turn On/Off<br/>• Current Walk-in On/Off<br/>• HVSD (High Voltage Shutdown) Reset<br/>• Current Limit Adjustment<br/>• Voltage Regulation | • Input Voltage<br/>• Output Voltage<br/>• Output Current<br/>• Current Limit Setting<br/>• Temperature<br/>• Over Voltage Setting<br/>• On/Off Status<br/>• Fault Alarms, such as:<br/>HVSD<br/>Fan Fail<br/>• Protection Alarms, such as:<br/>Input Voltage Protection<br/>Inner DC Bus Voltage Protection<br/>High Temperature Protection<br/>• Thermal Derating<br/>• AC Derating<br/>• AC Fail<br/>• Imbalance Output Current<br/>• Address<br/>• Code<br/>• Date<br/>• Software Version<br/>• Hardware Version |\\n\\n\\nMechanical Specifications\\n• Dimensions:\\n  a) Millimeters: 43.6 (Height) X52 (Width) X 152 (Depth)\\n\\n\\n\\n\\nVertiv | NetSure Rectifier Module User Manual (UM1R481000e3 / 11MB4705YO) | Rev. B\\n        ========== CHUNK R48-1000e3_User_Manual_38 END ==========\\n\\n\\n    ========== CHUNK R48-1000e3_User_Manual_59 ========\\n        page: 24\\n        file: R48-1000e3_User_Manual.pdf\\n        figure: Figure 6\\n        table: None\\n\\n        Nội dung của chunk: # Rectifier Module Replacement\\n\\nRectifiers can be inserted or removed with power applied (hot swappable).\\n\\nNOTE! Each rectifier module locks into a module mounting shelf by means of a latch located on the bottom of the rectifier. The latch and rectifier handle are interactive. Pushing the handle up into the rectifier’s front panel causes the latch to extend to the locking position; pulling the handle down out from the rectifier’s front panel causes the latch to retract. See Figure 6.\\n\\nDANGER! Take care when removing a rectifier that was in operation, as rectifier surfaces could be very hot.\\n\\nWARNING! To prevent damage to the latching mechanism, ensure the handle is in the open position when installing or removing a rectifier. NEVER hold the handle in the closed position when installing a rectifier into a shelf.\\n        ========== CHUNK R48-1000e3_User_Manual_59 END ==========\\n\\n\""
      ]
     },
     "execution_count": 60,
     "metadata": {},
     "output_type": "execute_result"
    }
   ],
   "source": [
    "content"
   ]
  },
  {
   "cell_type": "code",
   "execution_count": null,
   "id": "584b2ae9-4106-44d6-8402-463f60c49ebd",
   "metadata": {},
   "outputs": [],
   "source": []
  }
 ],
 "metadata": {
  "kernelspec": {
   "display_name": "Python 3 (ipykernel)",
   "language": "python",
   "name": "python3"
  },
  "language_info": {
   "codemirror_mode": {
    "name": "ipython",
    "version": 3
   },
   "file_extension": ".py",
   "mimetype": "text/x-python",
   "name": "python",
   "nbconvert_exporter": "python",
   "pygments_lexer": "ipython3",
   "version": "3.13.2"
  }
 },
 "nbformat": 4,
 "nbformat_minor": 5
}
